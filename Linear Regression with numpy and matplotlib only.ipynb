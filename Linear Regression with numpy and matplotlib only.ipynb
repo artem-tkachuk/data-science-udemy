{
 "cells": [
  {
   "cell_type": "markdown",
   "metadata": {},
   "source": [
    "# About this notebook\n",
    "Here I tried to use solely matplotlib and numpy to build the linear regression from scratch. This also has the functionality of plotting the graphs of the cost function J(theta) and the current fitted line in real-time. Pandas, scikit-learn or any other libraries are not used **on purpose**. Yes, Yes, I am aware of them :)\n",
    "\n",
    "© created by Artem Tkachuk on 11/03/2019 (03.11.2019)"
   ]
  },
  {
   "cell_type": "markdown",
   "metadata": {},
   "source": [
    "# Imports"
   ]
  },
  {
   "cell_type": "code",
   "execution_count": 21,
   "metadata": {},
   "outputs": [],
   "source": [
    "import io\n",
    "import numpy as np\n",
    "import matplotlib\n",
    "import matplotlib.pyplot as plt; plt.ion()\n",
    "#ion() - interactive mode - is required for the \"LIVE\" effect"
   ]
  },
  {
   "cell_type": "markdown",
   "metadata": {},
   "source": [
    "# Read data"
   ]
  },
  {
   "cell_type": "code",
   "execution_count": 22,
   "metadata": {},
   "outputs": [],
   "source": [
    "def readFile(fn):\n",
    "    f = open(fn, 'r')\n",
    "    #+ 1 because below we add a column of x0, where each entry is 1\n",
    "    m = int(f.readline()) + 1 \n",
    "    n = int(f.readline())\n",
    "\n",
    "    #delete all commas\n",
    "    lines = f.read().replace(\",\", \" \")\n",
    "    #spent a lot of time on StackOverflow with this line\n",
    "    data = np.genfromtxt(io.StringIO(lines))\n",
    "    #add x0\n",
    "    data = np.insert(data, 0, 1, axis=1)\n",
    "\n",
    "    return (data, n, m)"
   ]
  },
  {
   "cell_type": "markdown",
   "metadata": {},
   "source": [
    "Basically, the constant that defines how often the graphs will be replotted"
   ]
  },
  {
   "cell_type": "code",
   "execution_count": 23,
   "metadata": {},
   "outputs": [],
   "source": [
    "frequency = 100000"
   ]
  },
  {
   "cell_type": "markdown",
   "metadata": {},
   "source": [
    "# Graphing"
   ]
  },
  {
   "cell_type": "markdown",
   "metadata": {},
   "source": [
    "### Plotting the cost function LIVE"
   ]
  },
  {
   "cell_type": "markdown",
   "metadata": {},
   "source": [
    "Initialize all objects, set limits, names, etc, and return them to train() function"
   ]
  },
  {
   "cell_type": "code",
   "execution_count": 24,
   "metadata": {},
   "outputs": [],
   "source": [
    "def init_cost(fn):\n",
    "    fig = plt.figure(0, figsize=(10, 8))\n",
    "\n",
    "    ax = fig.add_subplot(1, 1, 1)\n",
    "    ax.grid()\n",
    "    ax.set_ylim(-1.0, 1.0)\n",
    "\n",
    "    #set labels\n",
    "    plt.xlabel('n Times')\n",
    "    plt.ylabel('J(Θ)')\n",
    "    plt.title(f'\"{fn}\" dataset\\'s cost function')\n",
    "\n",
    "    xdata, ydata = [], []\n",
    "    # ',' because we do not need the second object \n",
    "    line, = ax.plot(xdata, ydata, 'r-')\n",
    "    \n",
    "    #return all the objects to train() for replotting later\n",
    "    return (fig, ax, xdata, ydata, line)"
   ]
  },
  {
   "cell_type": "markdown",
   "metadata": {},
   "source": [
    "**replot_cost()** is called each time the thetas (aka parameters) are recalculated => the new value for J is obtained (on every iteration of the training loop). It replots the graph of a cost functiuon with a certain frequency (frequency is defined above)"
   ]
  },
  {
   "cell_type": "code",
   "execution_count": 25,
   "metadata": {},
   "outputs": [],
   "source": [
    "def replot_cost(fig, ax, line, nTimes, xdata, ydata, k, LL):\n",
    "    #get current limits\n",
    "    _, xmax = ax.get_xlim()\n",
    "    ymin, ymax = ax.get_ylim()\n",
    "    \n",
    "    #properly choose how to adjust the limits on both axes\n",
    "    if k > xmax:\n",
    "        xmax = nTimes if 2 * k > nTimes else 2 * k\n",
    "    if LL > ymax:\n",
    "        ymax = 1.2 * LL\n",
    "    if LL < ymin:\n",
    "        ymin = 1.2 * LL\n",
    "    \n",
    "     #properly adjust the limits\n",
    "    ax.set_xlim(0, xmax)\n",
    "    ax.set_ylim(ymin, ymax)\n",
    "    \n",
    "    #update the line datapoints\n",
    "    xdata.append(k + 1)\n",
    "    ydata.append(LL)\n",
    "    line.set_data(xdata, ydata)\n",
    "    \n",
    "    #only replot with certain frequency (defined above)\n",
    "    if k % (nTimes / frequency) == 0:\n",
    "        fig.canvas.draw()\n",
    "        fig.canvas.flush_events()"
   ]
  },
  {
   "cell_type": "markdown",
   "metadata": {},
   "source": [
    "### Fitting the line with current parameters LIVE"
   ]
  },
  {
   "cell_type": "markdown",
   "metadata": {},
   "source": [
    "Initialize all objects, set limits, names, etc, and return them to train() function"
   ]
  },
  {
   "cell_type": "code",
   "execution_count": 26,
   "metadata": {},
   "outputs": [],
   "source": [
    "def init_line(X, y, thetas):\n",
    "    fig = plt.figure(1, figsize=(10,8))\n",
    "\n",
    "    ax = fig.add_subplot(1, 1, 1)\n",
    "    ax.grid()\n",
    "\n",
    "    plt.xlabel('X')\n",
    "    plt.ylabel('y')\n",
    "    plt.title('Data scatterplot and a fitted line')\n",
    "\n",
    "    xdata = X[:, 1]\n",
    "    #calculate the fitted values with current parameter values\n",
    "    ydata = np.matmul(X, thetas)\n",
    "\n",
    "    #plot initial line\n",
    "    line, = ax.plot(xdata, ydata, 'r-')\n",
    "    #scatterplot of the data we have\n",
    "    data_plot = ax.scatter(xdata, y)\n",
    "\n",
    "    return (fig, ax, xdata, line)"
   ]
  },
  {
   "cell_type": "markdown",
   "metadata": {},
   "source": [
    "**replot_line()** is called each time the thetas (aka parameters) are recalculated, and it replots the graph of the fitted line and scattered data with a certain frequency (frequency is defined above)"
   ]
  },
  {
   "cell_type": "code",
   "execution_count": 27,
   "metadata": {},
   "outputs": [],
   "source": [
    "def replot_line(fig, ax, xdata, line, X, thetas, k, nTimes):\n",
    "    #recalculate the fitted values\n",
    "    ydata = np.matmul(X, thetas)\n",
    "    #update the line\n",
    "    line.set_data(xdata, ydata)\n",
    "\n",
    "    #only replot with certain frequency (defined above)\n",
    "    if k % (nTimes / frequency) == 0:\n",
    "        fig.canvas.draw()\n",
    "        fig.canvas.flush_events()"
   ]
  },
  {
   "cell_type": "markdown",
   "metadata": {},
   "source": [
    "# Training"
   ]
  },
  {
   "cell_type": "markdown",
   "metadata": {},
   "source": [
    "The training process. Tries to find the best values for thetas (parameters) such that the line fits the data in the best possible way. Also calculates the cost function and replots the line and the graph of the cost function on each training iteration with the \"LIVE\" effect!!!! _(WOOOOOWWWOWOOOWOWOOWOW)_"
   ]
  },
  {
   "cell_type": "code",
   "execution_count": 28,
   "metadata": {},
   "outputs": [],
   "source": [
    "def train(fn):\n",
    "    #number of training iterations\n",
    "    nTimes = 20\n",
    "    #step size (learning rate)\n",
    "    rate = 0.001\n",
    "    #data, # of training examples, # of input features + 1\n",
    "    data, n, m = readFile(fn)\n",
    "\n",
    "    #slice input features only\n",
    "    X = data[:, :-1]\n",
    "    #slice targets only\n",
    "    y = data[:, -1]\n",
    "    #initial values for parameters\n",
    "    thetas = np.random.rand(m)\n",
    "    #initialize gradients\n",
    "    gradient = np.zeros(m)\n",
    "\n",
    "    #initialize the objects for cost function continuous replotting\n",
    "    fig_cost, ax_cost, xdata_cost, ydata_cost, curve = init_cost('Movie Revenue')\n",
    "    #initialize the objects for the continuous replotting of the fitted line\n",
    "    fig_line, ax_line, xdata_line, line, = init_line(X, y,thetas)\n",
    "\n",
    "    #the actual training process\n",
    "    for k in range(nTimes):\n",
    "        h = np.matmul(X, thetas)\n",
    "        delta = y - h\n",
    "        #get the partial derivatives\n",
    "        gradient = -2 * np.sum(X * delta[:, np.newaxis], axis=0)\n",
    "        #update the parameters\n",
    "        thetas -= rate * gradient\n",
    "\n",
    "        #cost function's current value\n",
    "        J = np.sum(delta * delta)\n",
    "        \n",
    "        #replot the cost function and the fitted line\n",
    "        replot_cost(fig_cost, ax_cost, curve, nTimes, xdata_cost, ydata_cost, k, J)\n",
    "        replot_line(fig_line, ax_line, xdata_line, line, X, thetas, k, nTimes)\n",
    "    \n",
    "    #this line is needed for graphs to stay afterwards\n",
    "    plt.ioff()\n",
    "    #save the .png of the graphs for later reference\n",
    "    plt.savefig('LR/line_graph.png')\n",
    "    plt.savefig('LR/final_line.png')\n",
    "\n",
    "    return thetas"
   ]
  },
  {
   "cell_type": "markdown",
   "metadata": {},
   "source": [
    "# Main"
   ]
  },
  {
   "cell_type": "markdown",
   "metadata": {},
   "source": [
    "Launches the training process, outputs the obtained values for parameters, and lets the graphs of the cost function and the scatterplot of data with the fitted line stay"
   ]
  },
  {
   "cell_type": "code",
   "execution_count": 29,
   "metadata": {},
   "outputs": [],
   "source": [
    "def main():\n",
    "    fileName = 'LR/data.txt'\n",
    "#     'cost_revenue_clean_custom.txt'\n",
    "\n",
    "    thetas = train(fileName)\n",
    "    print('Thetas:', thetas)\n",
    "    # let the graphs stay when done\n",
    "    plt.show()"
   ]
  },
  {
   "cell_type": "markdown",
   "metadata": {},
   "source": [
    "Calls main and, therefore, launches everything"
   ]
  },
  {
   "cell_type": "code",
   "execution_count": 30,
   "metadata": {},
   "outputs": [
    {
     "name": "stdout",
     "output_type": "stream",
     "text": [
      "Thetas: [0.98478883 2.49171798]\n"
     ]
    },
    {
     "data": {
      "image/png": "[encoded data removed]",
      "text/plain": [
       "<Figure size 720x576 with 1 Axes>"
      ]
     },
     "metadata": {
      "needs_background": "light"
     },
     "output_type": "display_data"
    },
    {
     "data": {
      "image/png": "[encoded data removed]",
      "text/plain": [
       "<Figure size 720x576 with 1 Axes>"
      ]
     },
     "metadata": {
      "needs_background": "light"
     },
     "output_type": "display_data"
    }
   ],
   "source": [
    "main()"
   ]
  }
 ],
 "metadata": {
  "kernelspec": {
   "display_name": "Python 3",
   "language": "python",
   "name": "python3"
  },
  "language_info": {
   "codemirror_mode": {
    "name": "ipython",
    "version": 3
   },
   "file_extension": ".py",
   "mimetype": "text/x-python",
   "name": "python",
   "nbconvert_exporter": "python",
   "pygments_lexer": "ipython3",
   "version": "3.7.4"
  }
 },
 "nbformat": 4,
 "nbformat_minor": 2
}
